{
 "cells": [
  {
   "cell_type": "markdown",
   "metadata": {
    "id": "n1c_BEIfDiST"
   },
   "source": [
    "# NLP - Retail Items classification - Alejandro Duran\n",
    "\n",
    "\n",
    "---\n",
    "\n",
    "## 1. Introduction\n",
    "\n",
    "At Company A we have at our disposal a huge and varied amount of data from items, users, conversations, transactions, etc, and of all types: numerical, categorical, eventual, text and images. Thanks to that, many different valuable data products can be built.\n",
    "\n",
    "For instance, as part of a Product initiative, the Data Science team is asked to develop a solution to properly classify listings that fall between two categories: **0-Cellphones** and **1-Computers**. We could use a lot of data from existing items (title, description, images, price, and other fields and metadata), but as an MVP, we decide to implement a ML solution based only on text (the items title), and frame it as a **binary classification problem**.\n",
    "\n",
    "We then build a dataset by querying from the Data Warehouse a sample of 1500 items from these two categories, with their titles (in lower case) and their categories (selected by the users when uploaded). This dataset can be found in the attached file `data.json`.\n",
    "\n",
    "In the next sections we will tackle the problem with two different approaches to assess the feasibility of the challenge."
   ]
  },
  {
   "cell_type": "markdown",
   "metadata": {
    "id": "aqZNEl1ErkuG"
   },
   "source": [
    "## 2. Loading the dataset\n",
    "\n",
    "First, we begin by loading the dataset. If the file `data.json` is in the same location as this notebook (or a suitable path), you should be able to run the next two cells just fine. Otherwise, if you face any issue, you can copy and paste the data in the `else` statement below."
   ]
  },
  {
   "cell_type": "code",
   "execution_count": 2,
   "metadata": {
    "id": "WyWpDacSrkuI"
   },
   "outputs": [],
   "source": [
    "import os\n",
    "import json\n",
    "import numpy as np\n",
    "import pandas as pd\n",
    "import matplotlib.pylab as plt\n",
    "%matplotlib inline"
   ]
  },
  {
   "cell_type": "code",
   "execution_count": 3,
   "metadata": {
    "colab": {
     "base_uri": "https://localhost:8080/"
    },
    "id": "GYMoMBYrtRDo",
    "outputId": "1e419d3f-ba3b-407e-fc30-8c4249ef1913"
   },
   "outputs": [
    {
     "name": "stdout",
     "output_type": "stream",
     "text": [
      "Mounted at /content/drive\n"
     ]
    }
   ],
   "source": [
    "# I mount my Google Drive, where I saved the data \n",
    "# This step is only for me (Ale), since you (Wallapop) already have the data \n",
    "# in your particular location \n",
    "from google.colab import drive\n",
    "drive.mount('/content/drive')\n",
    "\n"
   ]
  },
  {
   "cell_type": "code",
   "execution_count": 4,
   "metadata": {
    "id": "rhzlSjMlwshr"
   },
   "outputs": [],
   "source": [
    "# Path (data location)\n",
    "data_file = '/content/drive/MyDrive/Colab Notebooks/Wallapop - Practical Assignment/data.json'"
   ]
  },
  {
   "cell_type": "code",
   "execution_count": 5,
   "metadata": {
    "colab": {
     "base_uri": "https://localhost:8080/"
    },
    "id": "69oDMAV8rkuK",
    "outputId": "724d7eac-14dc-42c3-da46-7b562a9a5787"
   },
   "outputs": [
    {
     "name": "stdout",
     "output_type": "stream",
     "text": [
      "Loading data from file...\n"
     ]
    }
   ],
   "source": [
    "#Loading data\n",
    "if os.path.exists(data_file):\n",
    "    print(\"Loading data from file...\")\n",
    "    with open(data_file) as f:\n",
    "        data = json.load(f)\n",
    "       \n",
    "else:\n",
    "    print(\"Loading data from string...\")\n",
    "    # replace next lines with data if needed\n",
    "    #data = json.loads( ...)\n",
    "\n",
    " "
   ]
  },
  {
   "cell_type": "code",
   "execution_count": 6,
   "metadata": {
    "colab": {
     "base_uri": "https://localhost:8080/",
     "height": 223
    },
    "id": "k05nhvxtrkuL",
    "outputId": "5cc05570-06e9-46ac-f2d6-fef92737e297"
   },
   "outputs": [
    {
     "name": "stdout",
     "output_type": "stream",
     "text": [
      "DF shape: (1500, 3)\n"
     ]
    },
    {
     "data": {
      "text/html": [
       "\n",
       "  <div id=\"df-23ae1fa7-690e-4ba7-a59f-3469cb938e48\">\n",
       "    <div class=\"colab-df-container\">\n",
       "      <div>\n",
       "<style scoped>\n",
       "    .dataframe tbody tr th:only-of-type {\n",
       "        vertical-align: middle;\n",
       "    }\n",
       "\n",
       "    .dataframe tbody tr th {\n",
       "        vertical-align: top;\n",
       "    }\n",
       "\n",
       "    .dataframe thead th {\n",
       "        text-align: right;\n",
       "    }\n",
       "</style>\n",
       "<table border=\"1\" class=\"dataframe\">\n",
       "  <thead>\n",
       "    <tr style=\"text-align: right;\">\n",
       "      <th></th>\n",
       "      <th>title</th>\n",
       "      <th>category</th>\n",
       "      <th>category_num</th>\n",
       "    </tr>\n",
       "  </thead>\n",
       "  <tbody>\n",
       "    <tr>\n",
       "      <th>0</th>\n",
       "      <td>xgody smartphone (nuevo)</td>\n",
       "      <td>cellphones</td>\n",
       "      <td>0</td>\n",
       "    </tr>\n",
       "    <tr>\n",
       "      <th>1</th>\n",
       "      <td>kindle paperwhite segunda generacion</td>\n",
       "      <td>computers</td>\n",
       "      <td>1</td>\n",
       "    </tr>\n",
       "    <tr>\n",
       "      <th>2</th>\n",
       "      <td>amplificador de antena nuevo</td>\n",
       "      <td>cellphones</td>\n",
       "      <td>0</td>\n",
       "    </tr>\n",
       "    <tr>\n",
       "      <th>3</th>\n",
       "      <td>volante logitech g27</td>\n",
       "      <td>computers</td>\n",
       "      <td>1</td>\n",
       "    </tr>\n",
       "    <tr>\n",
       "      <th>4</th>\n",
       "      <td>fitbit alta hr</td>\n",
       "      <td>cellphones</td>\n",
       "      <td>0</td>\n",
       "    </tr>\n",
       "  </tbody>\n",
       "</table>\n",
       "</div>\n",
       "      <button class=\"colab-df-convert\" onclick=\"convertToInteractive('df-23ae1fa7-690e-4ba7-a59f-3469cb938e48')\"\n",
       "              title=\"Convert this dataframe to an interactive table.\"\n",
       "              style=\"display:none;\">\n",
       "        \n",
       "  <svg xmlns=\"http://www.w3.org/2000/svg\" height=\"24px\"viewBox=\"0 0 24 24\"\n",
       "       width=\"24px\">\n",
       "    <path d=\"M0 0h24v24H0V0z\" fill=\"none\"/>\n",
       "    <path d=\"M18.56 5.44l.94 2.06.94-2.06 2.06-.94-2.06-.94-.94-2.06-.94 2.06-2.06.94zm-11 1L8.5 8.5l.94-2.06 2.06-.94-2.06-.94L8.5 2.5l-.94 2.06-2.06.94zm10 10l.94 2.06.94-2.06 2.06-.94-2.06-.94-.94-2.06-.94 2.06-2.06.94z\"/><path d=\"M17.41 7.96l-1.37-1.37c-.4-.4-.92-.59-1.43-.59-.52 0-1.04.2-1.43.59L10.3 9.45l-7.72 7.72c-.78.78-.78 2.05 0 2.83L4 21.41c.39.39.9.59 1.41.59.51 0 1.02-.2 1.41-.59l7.78-7.78 2.81-2.81c.8-.78.8-2.07 0-2.86zM5.41 20L4 18.59l7.72-7.72 1.47 1.35L5.41 20z\"/>\n",
       "  </svg>\n",
       "      </button>\n",
       "      \n",
       "  <style>\n",
       "    .colab-df-container {\n",
       "      display:flex;\n",
       "      flex-wrap:wrap;\n",
       "      gap: 12px;\n",
       "    }\n",
       "\n",
       "    .colab-df-convert {\n",
       "      background-color: #E8F0FE;\n",
       "      border: none;\n",
       "      border-radius: 50%;\n",
       "      cursor: pointer;\n",
       "      display: none;\n",
       "      fill: #1967D2;\n",
       "      height: 32px;\n",
       "      padding: 0 0 0 0;\n",
       "      width: 32px;\n",
       "    }\n",
       "\n",
       "    .colab-df-convert:hover {\n",
       "      background-color: #E2EBFA;\n",
       "      box-shadow: 0px 1px 2px rgba(60, 64, 67, 0.3), 0px 1px 3px 1px rgba(60, 64, 67, 0.15);\n",
       "      fill: #174EA6;\n",
       "    }\n",
       "\n",
       "    [theme=dark] .colab-df-convert {\n",
       "      background-color: #3B4455;\n",
       "      fill: #D2E3FC;\n",
       "    }\n",
       "\n",
       "    [theme=dark] .colab-df-convert:hover {\n",
       "      background-color: #434B5C;\n",
       "      box-shadow: 0px 1px 3px 1px rgba(0, 0, 0, 0.15);\n",
       "      filter: drop-shadow(0px 1px 2px rgba(0, 0, 0, 0.3));\n",
       "      fill: #FFFFFF;\n",
       "    }\n",
       "  </style>\n",
       "\n",
       "      <script>\n",
       "        const buttonEl =\n",
       "          document.querySelector('#df-23ae1fa7-690e-4ba7-a59f-3469cb938e48 button.colab-df-convert');\n",
       "        buttonEl.style.display =\n",
       "          google.colab.kernel.accessAllowed ? 'block' : 'none';\n",
       "\n",
       "        async function convertToInteractive(key) {\n",
       "          const element = document.querySelector('#df-23ae1fa7-690e-4ba7-a59f-3469cb938e48');\n",
       "          const dataTable =\n",
       "            await google.colab.kernel.invokeFunction('convertToInteractive',\n",
       "                                                     [key], {});\n",
       "          if (!dataTable) return;\n",
       "\n",
       "          const docLinkHtml = 'Like what you see? Visit the ' +\n",
       "            '<a target=\"_blank\" href=https://colab.research.google.com/notebooks/data_table.ipynb>data table notebook</a>'\n",
       "            + ' to learn more about interactive tables.';\n",
       "          element.innerHTML = '';\n",
       "          dataTable['output_type'] = 'display_data';\n",
       "          await google.colab.output.renderOutput(dataTable, element);\n",
       "          const docLink = document.createElement('div');\n",
       "          docLink.innerHTML = docLinkHtml;\n",
       "          element.appendChild(docLink);\n",
       "        }\n",
       "      </script>\n",
       "    </div>\n",
       "  </div>\n",
       "  "
      ],
      "text/plain": [
       "                                  title    category  category_num\n",
       "0              xgody smartphone (nuevo)  cellphones             0\n",
       "1  kindle paperwhite segunda generacion   computers             1\n",
       "2          amplificador de antena nuevo  cellphones             0\n",
       "3                  volante logitech g27   computers             1\n",
       "4                        fitbit alta hr  cellphones             0"
      ]
     },
     "execution_count": 6,
     "metadata": {},
     "output_type": "execute_result"
    }
   ],
   "source": [
    "df = pd.DataFrame.from_records(data)\n",
    "print(\"DF shape:\", df.shape)\n",
    "df.head()"
   ]
  },
  {
   "cell_type": "markdown",
   "metadata": {
    "id": "wsIsEsY_rkuM"
   },
   "source": [
    "#### QUESTION 1: Plot the class distribution of the dataset. What we should consider in terms of balancing?"
   ]
  },
  {
   "cell_type": "code",
   "execution_count": 7,
   "metadata": {
    "colab": {
     "base_uri": "https://localhost:8080/",
     "height": 326
    },
    "id": "ecXWoGtHrkuN",
    "outputId": "c6e1d529-93d4-4edc-fef9-9711fe3480de"
   },
   "outputs": [
    {
     "data": {
      "text/plain": [
       "<Figure size 432x288 with 0 Axes>"
      ]
     },
     "metadata": {},
     "output_type": "display_data"
    },
    {
     "data": {
      "image/png": "[encoded data removed]",
      "text/plain": [
       "<Figure size 432x288 with 1 Axes>"
      ]
     },
     "metadata": {
      "needs_background": "light"
     },
     "output_type": "display_data"
    }
   ],
   "source": [
    "# ANSWER: \n",
    "#====== Q1 Class distribution ======\n",
    "Class_count=df['category'].value_counts().to_frame()\n",
    "\n",
    "#--Figure 1 - Simple barplot\n",
    "plt.rcParams['text.color'] = 'black'\n",
    "fig = plt.figure() \n",
    "Class_count.plot(kind='bar')\n",
    "plt.rc('font', size=15)  \n",
    "plt.show()\n"
   ]
  },
  {
   "cell_type": "code",
   "execution_count": 8,
   "metadata": {
    "colab": {
     "base_uri": "https://localhost:8080/",
     "height": 268
    },
    "id": "skRutM2ez08P",
    "outputId": "a20a7dbe-8644-497a-aaaf-325257aa0cd7"
   },
   "outputs": [
    {
     "data": {
      "image/png": "[encoded data removed]",
      "text/plain": [
       "<Figure size 432x288 with 1 Axes>"
      ]
     },
     "metadata": {},
     "output_type": "display_data"
    }
   ],
   "source": [
    "#--Figure 2- Pie chart -> and see category in percentage\n",
    "fig = plt.figure()\n",
    "plt.pie(Class_count['category'], labels =[Class_count['category'].index[0],Class_count['category'].index[1]],\n",
    "        autopct='%1.1f%%',explode = [.02,0])\n",
    "plt.title('Distribution of Products by class')\n",
    "plt.show()\n"
   ]
  },
  {
   "cell_type": "code",
   "execution_count": 9,
   "metadata": {
    "colab": {
     "base_uri": "https://localhost:8080/",
     "height": 268
    },
    "id": "trtyhUs2z5Iu",
    "outputId": "85c54505-c029-4ead-93f0-7ebeba5a60cb"
   },
   "outputs": [
    {
     "data": {
      "image/png": "[encoded data removed]",
      "text/plain": [
       "<Figure size 432x288 with 1 Axes>"
      ]
     },
     "metadata": {},
     "output_type": "display_data"
    }
   ],
   "source": [
    "#--Figure 3 (OPTIONAL) Same Piechart but fancier -> Mejor para mostrar\n",
    "# Set different background\n",
    "fig = plt.figure()\n",
    "fig.patch.set_facecolor('black')\n",
    "plt.rcParams['text.color'] = 'white'\n",
    " \n",
    "# Create a circle at the center of the plot\n",
    "my_circle=plt.Circle( (0,0), 0.7, color='black')\n",
    "\n",
    "plt.pie(Class_count['category'], labels =['computers','cellphones'],autopct='%1.1f%%')\n",
    "p=plt.gcf()\n",
    "p.gca().add_artist(my_circle)\n",
    "plt.title('Distribution of Products by class')\n",
    "plt.show()"
   ]
  },
  {
   "cell_type": "markdown",
   "metadata": {
    "id": "rfZobzt3DJZW"
   },
   "source": []
  },
  {
   "cell_type": "markdown",
   "metadata": {
    "id": "EdL-Mlwq0JC-"
   },
   "source": [
    "## ANSWER (Q1):\n",
    "Highly unbalanced data will bias an ML model because it will be trained based on the majority class while neglecting the minority one. \n",
    "\n",
    "In such scenario one should not use metrics (used to evaluate the model) like *overall mean* or *accuracy*, because it will be affected more by the majority (largest amount) of data.  It is better to use the Confusion Matrix with metrics as *precision* or *recall*, or combine both to compute the *F1 score* . But this depends of course about the specific questions we want to answers. \n",
    "\n",
    "In this scenario, I don't observe a high unbalance in the data (a mild unbalance is considered when the minority class is between 20% to 40% of the data. That is not the case here.). Thus, since we are looking to get a MVP, my firts thought is to proceed as it is and quickly evaluate the first classification models.\n",
    "\n",
    "However, if there is a need we can use resample techniques to get comparable samples. For instance, I can undersample the most common class (*computers*) or oversample the less common class (*cellphones*). I can do this by using random sampling for the given classes. Bellow I give an example, where I overpsample the *cellphones* class using resample from scikit learn."
   ]
  },
  {
   "cell_type": "code",
   "execution_count": 10,
   "metadata": {
    "colab": {
     "base_uri": "https://localhost:8080/",
     "height": 337
    },
    "id": "SLTpaYihGpit",
    "outputId": "28279a38-a4d8-49f9-fdf0-0ad36ac4b691"
   },
   "outputs": [
    {
     "data": {
      "image/png": "[encoded data removed]",
      "text/plain": [
       "<Figure size 432x288 with 1 Axes>"
      ]
     },
     "metadata": {
      "needs_background": "light"
     },
     "output_type": "display_data"
    }
   ],
   "source": [
    "from sklearn.utils import resample\n",
    "#create df of majority and minority class \n",
    "df_majority = df[(df['category_num']==1)] \n",
    "df_minority = df[(df['category_num']==0)] \n",
    "\n",
    "# Oversampling minority class\n",
    "df_minority_ovsampled = resample(df_minority, \n",
    "                                 replace=True,    \n",
    "                                 n_samples= Class_count['category'][0], # match nb computers = nb celphones\n",
    "                                 random_state=1)  # set a seed for reproducible results\n",
    "# Concatenate both\n",
    "df_ovsampled = pd.concat([df_minority_ovsampled, df_majority])\n",
    "\n",
    "# plot\n",
    "df_ovsampled['category'].value_counts().plot(kind='bar')\n",
    "plt.show()"
   ]
  },
  {
   "cell_type": "markdown",
   "metadata": {
    "id": "u8PrryY2rkuO"
   },
   "source": [
    "## 3. Splitting the dataset\n",
    "\n",
    "We proceed to split the dataset in two sets: train and test."
   ]
  },
  {
   "cell_type": "code",
   "execution_count": 11,
   "metadata": {
    "colab": {
     "base_uri": "https://localhost:8080/"
    },
    "id": "oSVGnHwvrkuP",
    "outputId": "9903491b-daff-4bf4-e333-4d37801e7be1"
   },
   "outputs": [
    {
     "name": "stdout",
     "output_type": "stream",
     "text": [
      "Train size: 1200\n",
      "Test size: 300\n"
     ]
    }
   ],
   "source": [
    "#Optional \n",
    "#Using the oversampled data increases RF classification accuracy in ~5% \n",
    "#df = df_ovsampled \n",
    "\n",
    "# --Splitting the dataset (train=80% test=20%)\n",
    "from sklearn.model_selection import train_test_split\n",
    "\n",
    "df_train, df_test, y_train, y_test = train_test_split(df[\"title\"], df[\"category_num\"], test_size=0.2, random_state=42)\n",
    "print(\"Train size: {}\".format(df_train.shape[0]))\n",
    "print(\"Test size: {}\".format(df_test.shape[0]))"
   ]
  },
  {
   "cell_type": "markdown",
   "metadata": {
    "id": "1HUHvsX6rkuR"
   },
   "source": [
    "## 4. Training\n",
    "\n",
    "As mentioned in the introduction, we will try to solve the problem with two different approaches."
   ]
  },
  {
   "cell_type": "markdown",
   "metadata": {
    "id": "Cpgh-HFTrkuR"
   },
   "source": [
    "### 4.1. Random Forest with word vectors"
   ]
  },
  {
   "cell_type": "markdown",
   "metadata": {
    "id": "Z_f6j_NnrkuS"
   },
   "source": [
    "We build a TF-IDF vectorizer from the dataset..."
   ]
  },
  {
   "cell_type": "code",
   "execution_count": 12,
   "metadata": {
    "colab": {
     "base_uri": "https://localhost:8080/"
    },
    "id": "Tw8kXHqBrkuS",
    "outputId": "7b509506-b5b9-4e32-84bc-bdb79f87128a"
   },
   "outputs": [
    {
     "name": "stderr",
     "output_type": "stream",
     "text": [
      "[nltk_data] Downloading package stopwords to /root/nltk_data...\n",
      "[nltk_data]   Unzipping corpora/stopwords.zip.\n"
     ]
    }
   ],
   "source": [
    "import nltk\n",
    "nltk.download('stopwords')\n",
    "from nltk.corpus import stopwords\n",
    "\n",
    "from sklearn.feature_extraction.text import TfidfVectorizer\n",
    "\n",
    "vectorizer = TfidfVectorizer(max_features=500, stop_words=stopwords.words('spanish'))\n",
    "vectorizer.fit(df[\"title\"])\n",
    "\n",
    "X_train = vectorizer.transform(df_train)\n",
    "X_test = vectorizer.transform(df_test)\n",
    "\n",
    "# print(vectorizer.get_feature_names())  # To check most frequent words\n",
    "# print(X_test.toarray())"
   ]
  },
  {
   "cell_type": "markdown",
   "metadata": {
    "id": "ciamwB7trkuT"
   },
   "source": [
    "And train a Random Forest model:"
   ]
  },
  {
   "cell_type": "markdown",
   "metadata": {
    "id": "w9aPbzsqrkuT"
   },
   "source": [
    "#### QUESTION 2: Train a RandomForest classifier with Scikit-learn.\n",
    "First, I trained the model using RandomForestClassifier from sklearn. Then, I used the RF model to predict some classes (either *computer* or *cellphone*) by using the test data.\n"
   ]
  },
  {
   "cell_type": "code",
   "execution_count": 13,
   "metadata": {
    "id": "M6FnXs7PrkuU"
   },
   "outputs": [],
   "source": [
    "# ANSWER:\n",
    "# ====== Q2. Train a RandomForest classifier with Scikit-learn ======\n",
    "from sklearn.ensemble import RandomForestClassifier\n",
    "rf_classifier = RandomForestClassifier(n_estimators=100, random_state =0)\n",
    "rf_classifier.fit(X_train,y_train)\n",
    "\n",
    "# Predicted output\n",
    "y_pred = rf_classifier.predict(X_test)"
   ]
  },
  {
   "cell_type": "markdown",
   "metadata": {
    "id": "PC1lohGfDpM2"
   },
   "source": [
    "Since an important part of the random forest algorithm is to use appropiate parameters, I decided to make a cross-validation procedure using GridSearchCV to tune those parameters. \n",
    "\n",
    "I chose two parameters of interest: \n",
    "*   n_estimators -> number of trees in the RF\n",
    "*   max_depth -> maximum depth of the trees\n",
    "\n",
    "\n"
   ]
  },
  {
   "cell_type": "code",
   "execution_count": 14,
   "metadata": {
    "id": "OLFIr_90GbEs"
   },
   "outputs": [],
   "source": [
    "parameters = { \n",
    "    \"n_estimators\":[50,100,200,300],\n",
    "    \"max_depth\":[8,16,32,None]\n",
    "    }"
   ]
  },
  {
   "cell_type": "markdown",
   "metadata": {
    "id": "9E-JlOeIG1RH"
   },
   "source": [
    "The GridSearchCV would test those parameters in 5 rounds  (`cv=5`) and output the mean and standard deviation. This gives me an indicator about the range in which I can use those parameters.  The cross-validation gives me a clear result that  `max_depth=None` is the best option. However, regarding the `n_estimators` there are no large differences. I will assess the model performance in the next item.  "
   ]
  },
  {
   "cell_type": "code",
   "execution_count": 15,
   "metadata": {
    "colab": {
     "base_uri": "https://localhost:8080/"
    },
    "id": "nJnnBv37HmZI",
    "outputId": "59f43c99-2682-44c6-e269-c907de3b8121"
   },
   "outputs": [
    {
     "name": "stdout",
     "output_type": "stream",
     "text": [
      "Best parameters: {'max_depth': None, 'n_estimators': 300}\n",
      "\n",
      "\n",
      "0.787 + or -0.023 for the {'max_depth': 8, 'n_estimators': 50}\n",
      "0.787 + or -0.027 for the {'max_depth': 8, 'n_estimators': 100}\n",
      "0.793 + or -0.025 for the {'max_depth': 8, 'n_estimators': 200}\n",
      "0.792 + or -0.027 for the {'max_depth': 8, 'n_estimators': 300}\n",
      "0.812 + or -0.018 for the {'max_depth': 16, 'n_estimators': 50}\n",
      "0.815 + or -0.025 for the {'max_depth': 16, 'n_estimators': 100}\n",
      "0.81 + or -0.028 for the {'max_depth': 16, 'n_estimators': 200}\n",
      "0.807 + or -0.023 for the {'max_depth': 16, 'n_estimators': 300}\n",
      "0.827 + or -0.025 for the {'max_depth': 32, 'n_estimators': 50}\n",
      "0.831 + or -0.023 for the {'max_depth': 32, 'n_estimators': 100}\n",
      "0.827 + or -0.025 for the {'max_depth': 32, 'n_estimators': 200}\n",
      "0.833 + or -0.025 for the {'max_depth': 32, 'n_estimators': 300}\n",
      "0.844 + or -0.027 for the {'max_depth': None, 'n_estimators': 50}\n",
      "0.838 + or -0.025 for the {'max_depth': None, 'n_estimators': 100}\n",
      "0.847 + or -0.025 for the {'max_depth': None, 'n_estimators': 200}\n",
      "0.848 + or -0.026 for the {'max_depth': None, 'n_estimators': 300}\n"
     ]
    }
   ],
   "source": [
    "# Optional - tunnig parameters via cross-validation\n",
    "from sklearn.model_selection import GridSearchCV\n",
    "cv = GridSearchCV(rf_classifier,parameters,cv=5)\n",
    "cv.fit(X_train,y_train.values.ravel())\n",
    "\n",
    "\n",
    "# Function for cross-validation\n",
    "def tune_test(results):\n",
    "    print(f'Best parameters: {results.best_params_}')\n",
    "    print(\"\\n\")\n",
    "    mean_score = results.cv_results_['mean_test_score']\n",
    "    std_score = results.cv_results_['std_test_score']\n",
    "    params = results.cv_results_['params']\n",
    "    for mean,std,params in zip(mean_score,std_score,params):\n",
    "        print(f'{round(mean,3)} + or -{round(std,3)} for the {params}')\n",
    "        \n",
    "        \n",
    "        \n",
    "tune_test(cv)"
   ]
  },
  {
   "cell_type": "markdown",
   "metadata": {
    "id": "eYG0FxtYrkuV"
   },
   "source": [
    "#### QUESTION 3: Assess the performance of this approach.\n",
    "\n",
    "#### Answer: \n",
    "An useful way to assess the performance of a binary clasiffier is by computing a confusion matriz. This will tell how often the classifier was correct. \n",
    "\n",
    "These are the main metrics to check\n",
    "\n",
    "* Accuracy: indicates in general how often the classifier is correct. This is, the total number of correct predictions divided by the total number of predictions. It is not a good metric for unbalanced data as I mentioned before.\n",
    "* Precision: when the model predicts positive, it indicates how often it is correct\n",
    "* Recall or sensitivity: It indicates the probability of detection\n",
    "* F1 Score: is the weighted average of Precision and Recall\n",
    " \n",
    "These metrics are computed based on the number of true/false positives and negatives. In this context, negative corresponds to the label of 0->Cellphones and positive to 1->Computer.  \n",
    "\n",
    "Bellow I compute the confussion matrix and make a quick analysis for the current case. "
   ]
  },
  {
   "cell_type": "code",
   "execution_count": 16,
   "metadata": {
    "colab": {
     "base_uri": "https://localhost:8080/",
     "height": 517
    },
    "id": "daVWJDaSrkuV",
    "outputId": "1a032e2e-c435-482e-a984-17e4cd5abd85"
   },
   "outputs": [
    {
     "name": "stdout",
     "output_type": "stream",
     "text": [
      "              precision    recall  f1-score   support\n",
      "\n",
      "           0       0.84      0.81      0.82       130\n",
      "           1       0.86      0.88      0.87       170\n",
      "\n",
      "    accuracy                           0.85       300\n",
      "   macro avg       0.85      0.85      0.85       300\n",
      "weighted avg       0.85      0.85      0.85       300\n",
      "\n",
      "Accuracy is:  0.85\n"
     ]
    },
    {
     "name": "stderr",
     "output_type": "stream",
     "text": [
      "/usr/local/lib/python3.7/dist-packages/sklearn/utils/deprecation.py:87: FutureWarning: Function plot_confusion_matrix is deprecated; Function `plot_confusion_matrix` is deprecated in 1.0 and will be removed in 1.2. Use one of the class methods: ConfusionMatrixDisplay.from_predictions or ConfusionMatrixDisplay.from_estimator.\n",
      "  warnings.warn(msg, category=FutureWarning)\n"
     ]
    },
    {
     "data": {
      "image/png": "[encoded data removed]",
      "text/plain": [
       "<Figure size 432x288 with 2 Axes>"
      ]
     },
     "metadata": {
      "needs_background": "light"
     },
     "output_type": "display_data"
    }
   ],
   "source": [
    "# ANSWER:\n",
    "# ====== Q3. RF Model performance  ======\n",
    "\n",
    "from sklearn.metrics import classification_report, confusion_matrix, accuracy_score\n",
    "from sklearn.metrics import plot_confusion_matrix\n",
    "\n",
    "#print(confusion_matrix(y_test, y_pred))\n",
    "print(classification_report(y_test, y_pred))\n",
    "print('Accuracy is: ',accuracy_score(y_test,y_pred))\n",
    "\n",
    "plot_confusion_matrix(rf_classifier, X_test, y_test)\n",
    "plt.show()"
   ]
  },
  {
   "cell_type": "code",
   "execution_count": 17,
   "metadata": {
    "colab": {
     "base_uri": "https://localhost:8080/",
     "height": 287
    },
    "id": "py3k6hduPy2x",
    "outputId": "d32c22eb-6d0d-4a46-9664-603448a222c0"
   },
   "outputs": [
    {
     "data": {
      "text/plain": [
       "<matplotlib.axes._subplots.AxesSubplot at 0x7f2958673850>"
      ]
     },
     "execution_count": 17,
     "metadata": {},
     "output_type": "execute_result"
    },
    {
     "data": {
      "image/png": "[encoded data removed]",
      "text/plain": [
       "<Figure size 432x288 with 2 Axes>"
      ]
     },
     "metadata": {
      "needs_background": "light"
     },
     "output_type": "display_data"
    }
   ],
   "source": [
    "# OPTIONAL - Nicer ConfMatrix Plot\n",
    "import seaborn as sns\n",
    "\n",
    "cf_matrix=confusion_matrix(y_test, y_pred)\n",
    "    \n",
    "group_names = ['True Cellphone','False Cellphone','False Computer','True Computer']\n",
    "group_counts = ['{0:0.0f}'.format(value) for value in\n",
    "                cf_matrix.flatten()]\n",
    "group_percentages = ['{0:.2%}'.format(value) for value in\n",
    "                     cf_matrix.flatten()/np.sum(cf_matrix)]\n",
    "labels = [f'{v1}\\n{v2}\\n{v3}' for v1, v2, v3 in\n",
    "          zip(group_names,group_counts,group_percentages)]\n",
    "labels = np.asarray(labels).reshape(2,2)\n",
    "sns.heatmap(cf_matrix, annot=labels, fmt='', cmap='coolwarm')"
   ]
  },
  {
   "cell_type": "code",
   "execution_count": 18,
   "metadata": {
    "colab": {
     "base_uri": "https://localhost:8080/"
    },
    "id": "H51WcPJhVZlY",
    "outputId": "ce95744b-3837-469e-8af6-6af637fe6358"
   },
   "outputs": [
    {
     "name": "stdout",
     "output_type": "stream",
     "text": [
      "0.8450226244343891\n"
     ]
    }
   ],
   "source": [
    "#Balanced accuracy (BA), .i.e. Probability of correct classification (PCC)\n",
    "BA = 0.5*( (cf_matrix[1][1]/(cf_matrix[1][1]+cf_matrix[1][0]))\n",
    "           + (cf_matrix[0][0]/(cf_matrix[0][0]+cf_matrix[0][1])) )\n",
    "print(BA)"
   ]
  },
  {
   "cell_type": "markdown",
   "metadata": {
    "id": "QkQswYyFT2DS"
   },
   "source": [
    "## Main points to consider  (Answer Q3)\n",
    "\n",
    "\n",
    "1.   Both classes are classified with similar values of precision (aprox 0.85) and recall. F1 score is a good metric for unbalanced data, usually a F1 above 0.8 is considered good and the one obtained here was above that value for both classes. Similarly happend with the obtained values for recall and precision. Thus, I consider the model works reasonable well. However, the specific threshold we target depends on the application and expectation. I mean, if we are classifying medical data this model probably doesn't satisfy the requirements.\n",
    "\n",
    "2.   85% of data is properly clasiffied. However, it is important to identify the cost of a wrong classification. For instance, is it more costly to clasiffy wrongly a computer as a cellphone or the other way around? I would argue that this is the case since usually a computer is more expensive. Then, packing/selling a computer with the price of a cellphone might be a bigger problem. But this depends on the specific application. \n",
    "\n",
    "3. Instead of evaluating the result using a standard ROC-AUC I used a simpler approach that is easier to interpret. I computed the Balanced accuracy (also known as Probability of correct classification PCC ). This metric is useful for unbalanced data. I got BA = 0.85 , meaning that there is a probability 85% of correct classification. In this case, this matches the overall acuracy. \n",
    "\n",
    "\n",
    "4. The original dataset is unbalance. When I trained the model after oversampling the minority data (check box [10] of this notebook) the RF classification accuracy increases by ~5%. You can quikly do this by uncommented the 1st lines in box [11] (`df = df_ovsampled`)and run the model again. This is a simple approach to increase the performance and get ~90% accuracy. This improvement is also observable in the other metrics (F1-score, prec,recall). \n"
   ]
  },
  {
   "cell_type": "markdown",
   "metadata": {
    "id": "enKqHTntrkuV"
   },
   "source": [
    "### 4.2. Recurrent Neural Network (LSTM) with word embeddings"
   ]
  },
  {
   "cell_type": "code",
   "execution_count": 19,
   "metadata": {
    "id": "aRk8UxHrrkuW"
   },
   "outputs": [],
   "source": [
    "import tensorflow as tf\n",
    "from tensorflow.keras.preprocessing.text import Tokenizer\n",
    "from tensorflow.keras.preprocessing.sequence import pad_sequences\n",
    "from tensorflow.keras.models import Sequential\n",
    "from tensorflow.keras.layers import SpatialDropout1D, Embedding, LSTM, Dense"
   ]
  },
  {
   "cell_type": "code",
   "execution_count": 20,
   "metadata": {
    "id": "P9IT484WrkuX"
   },
   "outputs": [],
   "source": [
    "max_words = 500\n",
    "max_length = 10\n",
    "embedding_dim = 50\n",
    "batch_size = 32\n",
    "num_epochs = 15"
   ]
  },
  {
   "cell_type": "markdown",
   "metadata": {
    "id": "GIMP0wQwrkuX"
   },
   "source": [
    "We begin by building a Keras word Tokenizer:"
   ]
  },
  {
   "cell_type": "code",
   "execution_count": 21,
   "metadata": {
    "id": "TsnChv_MrkuY"
   },
   "outputs": [],
   "source": [
    "tokenizer = Tokenizer(num_words=max_words, oov_token=1)\n",
    "tokenizer.fit_on_texts(df_train)\n",
    "\n",
    "X_train = tokenizer.texts_to_sequences(df_train)\n",
    "X_train = pad_sequences(X_train, maxlen=max_length)\n",
    "\n",
    "X_test = tokenizer.texts_to_sequences(df_test)\n",
    "X_test = pad_sequences(X_test, maxlen=max_length)"
   ]
  },
  {
   "cell_type": "markdown",
   "metadata": {
    "id": "wGLq2GIArkuY"
   },
   "source": [
    ":#### QUESTION 4: What is the parameter `oov_token=1` in the cell above? What is its purpose?"
   ]
  },
  {
   "cell_type": "markdown",
   "metadata": {
    "id": "MCdRf-awlK2d"
   },
   "source": [
    "### ANSWER Q4: \n",
    "OVV means *Out Of Vocabulary*.This parameter `oov_token` is used for replacing any unknown words (not present in our corpus) with a token. For instance, if I use `oov_token='Barça'` the code will replace unkown words by the string *'Barça'*. In the current code we are replacing unkown words with a number `oov_token=1`.\n",
    "Using `oov_token` to assign a token instead of throwing away unknown words might be a good approach, since we can use these information in the model instead of neglecting it. "
   ]
  },
  {
   "cell_type": "markdown",
   "metadata": {
    "id": "UoAnpSGQrkuZ"
   },
   "source": [
    "We then train a simple RNN LSTM architecture:"
   ]
  },
  {
   "cell_type": "code",
   "execution_count": 22,
   "metadata": {
    "colab": {
     "base_uri": "https://localhost:8080/"
    },
    "id": "-y6-hm5IErZD",
    "outputId": "21868181-4ef2-466e-a95e-98b490853338"
   },
   "outputs": [
    {
     "name": "stdout",
     "output_type": "stream",
     "text": [
      "Epoch 1/15\n",
      "38/38 [==============================] - 4s 28ms/step - loss: 0.6734 - accuracy: 0.5683 - val_loss: 0.6255 - val_accuracy: 0.6267\n",
      "Epoch 2/15\n",
      "38/38 [==============================] - 0s 11ms/step - loss: 0.5289 - accuracy: 0.7675 - val_loss: 0.4455 - val_accuracy: 0.7967\n",
      "Epoch 3/15\n",
      "38/38 [==============================] - 0s 11ms/step - loss: 0.3859 - accuracy: 0.8508 - val_loss: 0.3575 - val_accuracy: 0.8500\n",
      "Epoch 4/15\n",
      "38/38 [==============================] - 0s 11ms/step - loss: 0.3161 - accuracy: 0.8775 - val_loss: 0.3201 - val_accuracy: 0.8767\n",
      "Epoch 5/15\n",
      "38/38 [==============================] - 0s 11ms/step - loss: 0.2765 - accuracy: 0.8883 - val_loss: 0.3107 - val_accuracy: 0.8867\n",
      "Epoch 6/15\n",
      "38/38 [==============================] - 0s 11ms/step - loss: 0.2543 - accuracy: 0.9017 - val_loss: 0.3031 - val_accuracy: 0.8833\n",
      "Epoch 7/15\n",
      "38/38 [==============================] - 0s 11ms/step - loss: 0.2406 - accuracy: 0.9042 - val_loss: 0.3358 - val_accuracy: 0.8467\n",
      "Epoch 8/15\n",
      "38/38 [==============================] - 0s 11ms/step - loss: 0.2276 - accuracy: 0.9150 - val_loss: 0.3141 - val_accuracy: 0.8600\n",
      "Epoch 9/15\n",
      "38/38 [==============================] - 0s 11ms/step - loss: 0.2138 - accuracy: 0.9117 - val_loss: 0.3331 - val_accuracy: 0.8533\n",
      "Epoch 10/15\n",
      "38/38 [==============================] - 0s 12ms/step - loss: 0.2155 - accuracy: 0.9158 - val_loss: 0.3439 - val_accuracy: 0.8567\n",
      "Epoch 11/15\n",
      "38/38 [==============================] - 0s 11ms/step - loss: 0.2009 - accuracy: 0.9217 - val_loss: 0.3496 - val_accuracy: 0.8467\n",
      "Epoch 12/15\n",
      "38/38 [==============================] - 0s 12ms/step - loss: 0.1973 - accuracy: 0.9175 - val_loss: 0.3487 - val_accuracy: 0.8467\n",
      "Epoch 13/15\n",
      "38/38 [==============================] - 0s 12ms/step - loss: 0.1864 - accuracy: 0.9167 - val_loss: 0.3772 - val_accuracy: 0.8500\n",
      "Epoch 14/15\n",
      "38/38 [==============================] - 0s 11ms/step - loss: 0.1854 - accuracy: 0.9150 - val_loss: 0.3831 - val_accuracy: 0.8400\n",
      "Epoch 15/15\n",
      "38/38 [==============================] - 0s 11ms/step - loss: 0.1755 - accuracy: 0.9317 - val_loss: 0.4146 - val_accuracy: 0.8367\n"
     ]
    }
   ],
   "source": [
    "model = Sequential()\n",
    "model.add(Embedding(input_dim=max_words, output_dim=embedding_dim, input_length=max_length))\n",
    "model.add(SpatialDropout1D(0.2))\n",
    "model.add(LSTM(units=50, dropout=0.2))\n",
    "model.add(Dense(1, activation='sigmoid'))\n",
    "\n",
    "model.compile(\n",
    "    loss='binary_crossentropy', \n",
    "    optimizer='adam', \n",
    "    metrics=['accuracy']\n",
    ")\n",
    "\n",
    "history = model.fit(\n",
    "    X_train, y_train,\n",
    "    batch_size=batch_size,\n",
    "    epochs=num_epochs,\n",
    "    validation_data=(X_test, y_test)\n",
    ")"
   ]
  },
  {
   "cell_type": "markdown",
   "metadata": {
    "id": "QZEn-4RArkua"
   },
   "source": [
    "And plot the training history:"
   ]
  },
  {
   "cell_type": "code",
   "execution_count": 25,
   "metadata": {
    "colab": {
     "base_uri": "https://localhost:8080/",
     "height": 561
    },
    "id": "wSo9JPDkrkub",
    "outputId": "9d4f6891-7643-4897-a0c7-eaf7f5eb8a30"
   },
   "outputs": [
    {
     "data": {
      "image/png": "[encoded data removed]",
      "text/plain": [
       "<Figure size 432x288 with 1 Axes>"
      ]
     },
     "metadata": {
      "needs_background": "light"
     },
     "output_type": "display_data"
    },
    {
     "data": {
      "image/png": "[encoded data removed]",
      "text/plain": [
       "<Figure size 432x288 with 1 Axes>"
      ]
     },
     "metadata": {
      "needs_background": "light"
     },
     "output_type": "display_data"
    }
   ],
   "source": [
    "epochs = range(1, num_epochs+1)\n",
    "plt.rcParams['text.color'] = 'black'\n",
    "\n",
    "plt.figure()\n",
    "plt.ylabel(\"Loss\")\n",
    "plt.xlabel(\"Epoch\")\n",
    "plt.plot(epochs, history.history[\"loss\"], label=\"train\")\n",
    "plt.plot(epochs, history.history[\"val_loss\"], label=\"test\")\n",
    "plt.legend(loc='upper right')\n",
    "\n",
    "plt.figure()\n",
    "plt.ylabel(\"Accuracy\")\n",
    "plt.xlabel(\"Epoch\")\n",
    "plt.plot(epochs, history.history[\"accuracy\"], label=\"train\")\n",
    "plt.plot(epochs, history.history[\"val_accuracy\"], label=\"test\")\n",
    "plt.legend(loc='lower right')\n",
    "\n",
    "plt.show()"
   ]
  },
  {
   "cell_type": "markdown",
   "metadata": {
    "id": "68TzGWuvrkub"
   },
   "source": [
    "#### QUESTION 5: What can you say about the training of this model?"
   ]
  },
  {
   "cell_type": "markdown",
   "metadata": {
    "id": "4qC9rF7dqCOw"
   },
   "source": [
    "### Answer Q5:\n",
    "The figures show how the loss function and the accuracy of the model evolve with each epoch for the two datasets: train and test(i.e.,validation).   I see that for the training data the values for accuracy and loss are favorable (higher accuracy and lower loss) , but it is **not** the case for the testing data. In fact, the behavoiur of train and test is diverging. This is an indication of overfitting. The model fits very well the training data but it doesn't generalize well and therefore outperforms with new data that hasn't seen before (test data)."
   ]
  },
  {
   "cell_type": "markdown",
   "metadata": {
    "id": "kJEkkJYqrkuc"
   },
   "source": [
    "#### QUESTION 6: Assess the performance of this approach. How could you compare it to the first approach? In a follow-up meeting for this project you are asked to give an estimate of the performance we can expect to have with this model. How would you assess it?"
   ]
  },
  {
   "cell_type": "markdown",
   "metadata": {
    "id": "LPkvQkfj12gZ"
   },
   "source": [
    "### Answer Q6:\n",
    "The first step is to see the performance of the current LSTM model and then to compare it to the previous approach (RF model).\n",
    "Regarding the LSTM model, I can use the same metrics used before (acc, F1-score, recall and precision): "
   ]
  },
  {
   "cell_type": "code",
   "execution_count": 26,
   "metadata": {
    "colab": {
     "base_uri": "https://localhost:8080/",
     "height": 461
    },
    "id": "DIcFAXuVrkuc",
    "outputId": "f90a18e5-64b1-4cea-f4fd-5643430e1c62"
   },
   "outputs": [
    {
     "name": "stdout",
     "output_type": "stream",
     "text": [
      "              precision    recall  f1-score   support\n",
      "\n",
      "           0       0.89      0.72      0.79       130\n",
      "           1       0.81      0.93      0.87       170\n",
      "\n",
      "    accuracy                           0.84       300\n",
      "   macro avg       0.85      0.82      0.83       300\n",
      "weighted avg       0.84      0.84      0.83       300\n",
      "\n",
      "Accuracy is:  0.8366666666666667\n",
      "Balanced accuracy is  0.8223981900452488\n"
     ]
    },
    {
     "data": {
      "image/png": "[encoded data removed]",
      "text/plain": [
       "<Figure size 432x288 with 2 Axes>"
      ]
     },
     "metadata": {
      "needs_background": "light"
     },
     "output_type": "display_data"
    }
   ],
   "source": [
    "# ANSWER Q6:\n",
    "#-- Predictions \n",
    "y_pred = np.round(model.predict(X_test)) \n",
    "\n",
    "\n",
    "print(classification_report(y_test, y_pred))\n",
    "print('Accuracy is: ',accuracy_score(y_test,y_pred))\n",
    "\n",
    "cf_matrix=confusion_matrix(y_test, y_pred)\n",
    "    \n",
    "#group_names = ['True Neg','False Pos','False Neg','True Pos']\n",
    "group_names = ['True Cellphone','False Cellphone','False Computer','True Computer']\n",
    "group_counts = ['{0:0.0f}'.format(value) for value in\n",
    "                cf_matrix.flatten()]\n",
    "group_percentages = ['{0:.2%}'.format(value) for value in\n",
    "                     cf_matrix.flatten()/np.sum(cf_matrix)]\n",
    "labels = [f'{v1}\\n{v2}\\n{v3}' for v1, v2, v3 in\n",
    "          zip(group_names,group_counts,group_percentages)]\n",
    "labels = np.asarray(labels).reshape(2,2)\n",
    "sns.heatmap(cf_matrix, annot=labels, fmt='', cmap='coolwarm') #Blues coolwarm rocket\n",
    "  \n",
    "\n",
    "#Balanced accuracy (BA), .i.e. Probability of correct classification (PCC)\n",
    "BA = 0.5*( (cf_matrix[1][1]/(cf_matrix[1][1]+cf_matrix[1][0]))\n",
    "           + (cf_matrix[0][0]/(cf_matrix[0][0]+cf_matrix[0][1])) )\n",
    "print('Balanced accuracy is ', BA)"
   ]
  },
  {
   "cell_type": "markdown",
   "metadata": {
    "id": "29ZOfAWr2p7E"
   },
   "source": [
    "### Assesment of the LSTM model:\n",
    "Using the same metrics as before I got 83% accuracy and 82% in balance accuracy. Precision, recall and F1-score have similar values but the performance for the minority of data (*cellphones* = 0 class) is lower comparing to the majority of data (*computers* = 1 class) . This happened also for the RF model and it is a footprint of the fact that this is unbalanced data. \n"
   ]
  },
  {
   "cell_type": "markdown",
   "metadata": {
    "id": "q1CeGS-K26TP"
   },
   "source": [
    "### Assessment/Comparison between models and Performance estimation:\n",
    "Overall, the metrics in the previous step show a similar performance between both models. However, to really obtain a structured estimation of their performance and also a clear comparison it is better to perform a more robust statistical approach.\n",
    "\n",
    "I propose to perform a k-fold cross-validation on each on the models. This means, dividing the data set (Xvalidate and Xtrain) and running the training k-times (k=10 for instance) each time shifting the selection of the validation data. Thus, all data will be use for train and test. The final metrics will be the average along all iterations. This allow me to compare both models. \n",
    "\n",
    "Example: *Avg[metric RF_Model]*  >  *Avg[metric LSTM_Model]*  =>\n",
    "If the metric here is the F1-score, then I can say RF performs better than LSTM model.\n",
    "\n",
    "Goind deeper in the comparison I can also use the k-samples obtained from both models and perform a t-test to say if the differences of both model metrics have a statistical significance.\n",
    "\n",
    "\n",
    "#### Performance\n",
    "To estimate the model performance I can use the k-fold cross-validation approach I just mentioned. But it is better to have three sets of data: Xtrain, Xvalidate (the one used to validate the model with unkown data and used as indicator to tune the parameters), Xtest (final test, acting as model performance estimation with the 'real world'). With two sets only I don't have any independent data (since all was used in the k-fold CV) to be used as feedback mechanism for checking the model performance.\n",
    "\n",
    "\n"
   ]
  },
  {
   "cell_type": "markdown",
   "metadata": {
    "id": "gd4wjkD-rkuc"
   },
   "source": [
    "#### QUESTION 7: Retrieve some examples of mistakes made by the model. What can you say about them?\n",
    "\n",
    "\n",
    "#### Answer Q7:\n",
    "I observed that the model performes better when classifying computers and it makes more mistakes when classifying cellphones. This can be seen from the confusion matrix of the previous section. \n",
    "\n",
    "Bellow I make some plots that also show this effect. Whenever the model makes a mistake, it is more likely that it is an error in classifying cellphones.\n",
    "I think this is a concequence of the unbalance of data since when I run the model after balancing it I see a reduction in this effect. In general, a better model would require larger data sets with high quality labels."
   ]
  },
  {
   "cell_type": "code",
   "execution_count": 27,
   "metadata": {
    "colab": {
     "base_uri": "https://localhost:8080/",
     "height": 731
    },
    "id": "xggxeFnFrkuc",
    "outputId": "38cf97f1-9650-40ac-e458-71bf3dd6181c"
   },
   "outputs": [
    {
     "data": {
      "image/png": "[encoded data removed]",
      "text/plain": [
       "<Figure size 432x288 with 1 Axes>"
      ]
     },
     "metadata": {
      "needs_background": "light"
     },
     "output_type": "display_data"
    },
    {
     "name": "stdout",
     "output_type": "stream",
     "text": [
      "                                          title    category  category_num\n",
      "741                       blackberry 8520 libre  cellphones             0\n",
      "1382   da vida a tu móvil cambiando la batería.  cellphones             0\n",
      "1199              altavoz bluetooth impermeable  cellphones             0\n",
      "1419                           servicio técnico  cellphones             0\n",
      "432                          caja iphone 6nueva   computers             1\n",
      "1470  aire acondicional personal nuevo + regalo  cellphones             0\n",
      "1281                                      vendo  cellphones             0\n",
      "220                             batería samsung  cellphones             0\n",
      "1391                   apple watch serie4, 44mm  cellphones             0\n",
      "439         playstation 4 gold wireless headset   computers             1\n"
     ]
    },
    {
     "data": {
      "image/png": "[encoded data removed]",
      "text/plain": [
       "<Figure size 432x288 with 1 Axes>"
      ]
     },
     "metadata": {},
     "output_type": "display_data"
    }
   ],
   "source": [
    "# ANSWER Q7: \n",
    "# -- Errors in the model--\n",
    "\n",
    "#index of the test data in the df\n",
    "idx_test = y_test.index.values \n",
    "\n",
    "#diff between prediction and test data\n",
    "diff = np.abs(y_test-y_pred.reshape(300,))\n",
    "\n",
    "wrong_pred_idx = np.where(diff==1)\n",
    "wrong_pred_idx = idx_test[wrong_pred_idx] #wrong pred using original df indx\n",
    "\n",
    "#--Figure\n",
    "plt.scatter(idx_test,diff)  #0->match     1->missmatch, wrong prediction\n",
    "#plt.xlim([25, 50])\n",
    "plt.ylabel('|Prediction-Label data|')\n",
    "plt.xlabel('df index')\n",
    "plt.text(19, 0.9, 'Prediction error -> = 1')\n",
    "plt.show()\n",
    "\n",
    "\n",
    "df_wrongpred = df.iloc[wrong_pred_idx]\n",
    "df_goodpred = df.iloc[y_test[~y_test.index.isin(df_wrongpred.index)]]\n",
    "\n",
    "#--See 10 Wrong Predictions \n",
    "print(df_wrongpred[:10])\n",
    "\n",
    "\n",
    "#--See proportion of classes for wrong predictions\n",
    "Class_count=df_wrongpred['category'].value_counts().to_frame()\n",
    "\n",
    "##--Figure - Simple barplot\n",
    "#plt.rcParams['text.color'] = 'black'\n",
    "#fig = plt.figure() \n",
    "#Class_count.plot(kind='bar')\n",
    "#plt.rc('font', size=15)  \n",
    "#plt.show()\n",
    "\n",
    "#--Figure - Pie chart \n",
    "fig = plt.figure()\n",
    "plt.rcParams['text.color'] = 'black'\n",
    "plt.pie(Class_count['category'], labels =[Class_count['category'].index[0],Class_count['category'].index[1]],\n",
    "        autopct='%1.1f%%',explode = [.02,0])\n",
    "plt.title('Wrong Predictions: Distribution by class')\n",
    "plt.show()"
   ]
  },
  {
   "cell_type": "markdown",
   "metadata": {
    "id": "N0AnpwSKrkud"
   },
   "source": [
    "#### QUESTION 8: Implement a function `get_prediction` to get, for any text input, the category given by the model, and test it with some of the mistakes above."
   ]
  },
  {
   "cell_type": "code",
   "execution_count": 32,
   "metadata": {
    "colab": {
     "base_uri": "https://localhost:8080/",
     "height": 36
    },
    "id": "AB555i5Hrkud",
    "outputId": "ec997f75-45d9-4f96-b5b2-842112fa9c92"
   },
   "outputs": [
    {
     "data": {
      "application/vnd.google.colaboratory.intrinsic+json": {
       "type": "string"
      },
      "text/plain": [
       "'Computer'"
      ]
     },
     "execution_count": 32,
     "metadata": {},
     "output_type": "execute_result"
    }
   ],
   "source": [
    "# ANSWER:\n",
    "# ====== Q8 Get prediction  ======\n",
    "\n",
    "def get_prediction(in_str):\n",
    "    X_test = tokenizer.texts_to_sequences(in_str)\n",
    "    X_test = pad_sequences(X_test) #, maxlen=10) \n",
    "    \n",
    "    pred = round(np.mean(model.predict(X_test)))\n",
    "\n",
    "    if pred == 0:\n",
    "        return 'Cellphone'\n",
    "    else:\n",
    "        return 'Computer'\n",
    "\n",
    "#-- Test with previous mistakes\n",
    "in_str = df_wrongpred['title'].iloc[1]\n",
    "get_prediction(in_str) "
   ]
  },
  {
   "cell_type": "markdown",
   "metadata": {
    "id": "Gx4irL97rkud"
   },
   "source": [
    "## 5. Final Discussion"
   ]
  },
  {
   "cell_type": "markdown",
   "metadata": {
    "id": "cA_qzuierkue"
   },
   "source": [
    "#### QUESTION 9: What could be the next iterations of this project? More precisely:\n",
    "\n",
    "- **What would you change about the dataset used: information available, processing, etc?**\n",
    "- **How would you improve any/both of the approaches above, or what would you make differently?**\n",
    "- **Optionally, if you feel more confident using other libraries or architectures, or just think you can improve the current performance, feel free to give it a try! ;)**"
   ]
  },
  {
   "cell_type": "markdown",
   "metadata": {
    "id": "VCV89-Umfa-9"
   },
   "source": [
    "#### Answer Q9 --- Final Discussion\n",
    "\n",
    "#### Changes in the data set:\n",
    "I would definetly work in the preprocessing of the input dataset. I noticed there were some items that were not correctly labeled. This ofcourse undermines the performance of the model.\n",
    "\n",
    "There are other inputs, that are misleading since they don't belong to any of the 2 classes. I write bellow some examples you can run with the code.   \n",
    "\n",
    "I would preproces further the data removing some digits and punctuations.\n",
    "\n",
    "It would be useful to use a larger dataset. In case of a supervised approach that would required mode labels (HQ labels if possible). In case of a unsupervised approach we don't need labels for training, but having a large dataset to train the data it is very beneficial. The current 1500 inputs are not enough. "
   ]
  },
  {
   "cell_type": "code",
   "execution_count": 36,
   "metadata": {
    "colab": {
     "base_uri": "https://localhost:8080/"
    },
    "id": "slWEu3LErkue",
    "outputId": "4760ab9b-c3c9-4f71-e591-41126a61cfaa"
   },
   "outputs": [
    {
     "name": "stdout",
     "output_type": "stream",
     "text": [
      "                            title   category  category_num\n",
      "462   funda iphone 7plus y 8 plus  computers             1\n",
      "976      funda cargador iphone 4s  computers             1\n",
      "999               samsung a7 2018  computers             1\n",
      "1492     cable y funda para móvil  computers             1\n",
      "                                          title    category  category_num\n",
      "230                                    gafas vr  cellphones             0\n",
      "284                                      tablec  cellphones             0\n",
      "1419                           servicio técnico  cellphones             0\n",
      "1470  aire acondicional personal nuevo + regalo  cellphones             0\n",
      "1496                                    karaoke   computers             1\n"
     ]
    }
   ],
   "source": [
    "# ANSWER:\n",
    "# Errors in the original labeled data --Examples\n",
    "label_errors = df.iloc[([462, 976, 999, 1492])]\n",
    "print(label_errors)\n",
    "\n",
    "# non binary classes?\n",
    "non_binary_items = df.iloc[([230, 284, 1419, 1470, 1496])]\n",
    "print(non_binary_items)\n",
    "\n"
   ]
  },
  {
   "cell_type": "markdown",
   "metadata": {
    "id": "hbvZPXZokqWQ"
   },
   "source": [
    "#### Improving the approaches above:\n",
    "\n",
    "Things to consider\n",
    "\n",
    "* I showed that balancing the data improves ~5% the accuracy and have a similar inpact in the other metrics. This is an useful change to improve performance. \n",
    "* I also shuffled the data before spliting it, but from what I observed in this case, there was not large impact.\n",
    "* Although RF doesn't required normalizing the data I think for LSTM this would be useful. I would have a closer look on this. \n",
    "* I would consider incorporating other datasets. The current one is not enough specially when there are wrong labels in the input data and others items are not binary. I would consider neglecting items that are not binary (not fully defined as computer or cellphone like *servicio técnico* or *karaoke*) if I have access to more data (for instance, doing Web scraping on tech retail websites). But of course, this depends on the real application/use.\n",
    "* I would try to tune better the parameters in the RNN since it is a clear overfitting. Again, this can be handle with more training data. But if we don't have it I still can test it reducing the number of features to be trained by using less nodes or even trying with less layers. I can also do a weight regularization to the model as well. \n",
    "* Another option is a systematic tuning test of the parameters. I can select the parameters I'm interesting in and perform a cross-validation, changing the parameter values (similarly as I did before using `GridSearchCV` for the RF model) at each iteration. It might be computational costly, so I wouldn't recommended as the first option, but this can be useful and it is applicable for both models. \n",
    "* Finally, a nice approach would be to use a pretrained model as our starting point (reinforce learning). There are large models like BETO, which is a BERT model trained on a big Spanish corpus. It is worth to try with one of those.\n",
    "\n",
    "\n",
    "\n"
   ]
  },
  {
   "cell_type": "markdown",
   "metadata": {
    "id": "YwM3bR_yqJu0"
   },
   "source": [
    "## New approach - using word2vec:\n",
    "\n",
    "* I will do some quick preprocesing (balancing data, remove stop words) and shuffle the data before splitting it into train and test.\n",
    "\n",
    "* I will use word2vec to transform words into vectors and use those vectors as weights for a NN with several layers. This is done by creating an embedding matrix that will be the input of the emmbeding layer in the NN. I will use LSTM layers and dense layers (fully conected). \n",
    "\n",
    "\n",
    "\n",
    "### Main points to consider\n",
    "At the end I found a slight improvement in the metrics comparing to the previous LSTM model: ~88% accuracy and similar values for precision, recall and f1-score of both classes. However, this probably is not statistically significant. A better results would be obtained following the suggested approaches mentioned in the previous points. Particularly, increasing the amount and quality of the input data.  \n",
    "\n",
    "Nevertheless, I think it is important to notice that this new model doesn't suffer from the large overfitting the prevoius one had. So, in principle, this new model generalize better. That's an improvement. \n",
    "\n"
   ]
  },
  {
   "cell_type": "code",
   "execution_count": 3,
   "metadata": {
    "colab": {
     "base_uri": "https://localhost:8080/",
     "height": 276
    },
    "id": "5k3jQ5vYqyAy",
    "outputId": "07133343-4a5e-4723-fc1b-cb0c09a2c85e"
   },
   "outputs": [
    {
     "name": "stderr",
     "output_type": "stream",
     "text": [
      "[nltk_data] Downloading package stopwords to /root/nltk_data...\n",
      "[nltk_data]   Package stopwords is already up-to-date!\n"
     ]
    },
    {
     "name": "stdout",
     "output_type": "stream",
     "text": [
      "Drive already mounted at /content/drive; to attempt to forcibly remount, call drive.mount(\"/content/drive\", force_remount=True).\n",
      "DF shape: (1500, 3)\n"
     ]
    },
    {
     "data": {
      "text/html": [
       "\n",
       "  <div id=\"df-fa9e55ab-8f21-4f07-9cec-a4e6d12c79ce\">\n",
       "    <div class=\"colab-df-container\">\n",
       "      <div>\n",
       "<style scoped>\n",
       "    .dataframe tbody tr th:only-of-type {\n",
       "        vertical-align: middle;\n",
       "    }\n",
       "\n",
       "    .dataframe tbody tr th {\n",
       "        vertical-align: top;\n",
       "    }\n",
       "\n",
       "    .dataframe thead th {\n",
       "        text-align: right;\n",
       "    }\n",
       "</style>\n",
       "<table border=\"1\" class=\"dataframe\">\n",
       "  <thead>\n",
       "    <tr style=\"text-align: right;\">\n",
       "      <th></th>\n",
       "      <th>title</th>\n",
       "      <th>category</th>\n",
       "      <th>category_num</th>\n",
       "    </tr>\n",
       "  </thead>\n",
       "  <tbody>\n",
       "    <tr>\n",
       "      <th>0</th>\n",
       "      <td>xgody smartphone (nuevo)</td>\n",
       "      <td>cellphones</td>\n",
       "      <td>0</td>\n",
       "    </tr>\n",
       "    <tr>\n",
       "      <th>1</th>\n",
       "      <td>kindle paperwhite segunda generacion</td>\n",
       "      <td>computers</td>\n",
       "      <td>1</td>\n",
       "    </tr>\n",
       "    <tr>\n",
       "      <th>2</th>\n",
       "      <td>amplificador de antena nuevo</td>\n",
       "      <td>cellphones</td>\n",
       "      <td>0</td>\n",
       "    </tr>\n",
       "    <tr>\n",
       "      <th>3</th>\n",
       "      <td>volante logitech g27</td>\n",
       "      <td>computers</td>\n",
       "      <td>1</td>\n",
       "    </tr>\n",
       "    <tr>\n",
       "      <th>4</th>\n",
       "      <td>fitbit alta hr</td>\n",
       "      <td>cellphones</td>\n",
       "      <td>0</td>\n",
       "    </tr>\n",
       "  </tbody>\n",
       "</table>\n",
       "</div>\n",
       "      <button class=\"colab-df-convert\" onclick=\"convertToInteractive('df-fa9e55ab-8f21-4f07-9cec-a4e6d12c79ce')\"\n",
       "              title=\"Convert this dataframe to an interactive table.\"\n",
       "              style=\"display:none;\">\n",
       "        \n",
       "  <svg xmlns=\"http://www.w3.org/2000/svg\" height=\"24px\"viewBox=\"0 0 24 24\"\n",
       "       width=\"24px\">\n",
       "    <path d=\"M0 0h24v24H0V0z\" fill=\"none\"/>\n",
       "    <path d=\"M18.56 5.44l.94 2.06.94-2.06 2.06-.94-2.06-.94-.94-2.06-.94 2.06-2.06.94zm-11 1L8.5 8.5l.94-2.06 2.06-.94-2.06-.94L8.5 2.5l-.94 2.06-2.06.94zm10 10l.94 2.06.94-2.06 2.06-.94-2.06-.94-.94-2.06-.94 2.06-2.06.94z\"/><path d=\"M17.41 7.96l-1.37-1.37c-.4-.4-.92-.59-1.43-.59-.52 0-1.04.2-1.43.59L10.3 9.45l-7.72 7.72c-.78.78-.78 2.05 0 2.83L4 21.41c.39.39.9.59 1.41.59.51 0 1.02-.2 1.41-.59l7.78-7.78 2.81-2.81c.8-.78.8-2.07 0-2.86zM5.41 20L4 18.59l7.72-7.72 1.47 1.35L5.41 20z\"/>\n",
       "  </svg>\n",
       "      </button>\n",
       "      \n",
       "  <style>\n",
       "    .colab-df-container {\n",
       "      display:flex;\n",
       "      flex-wrap:wrap;\n",
       "      gap: 12px;\n",
       "    }\n",
       "\n",
       "    .colab-df-convert {\n",
       "      background-color: #E8F0FE;\n",
       "      border: none;\n",
       "      border-radius: 50%;\n",
       "      cursor: pointer;\n",
       "      display: none;\n",
       "      fill: #1967D2;\n",
       "      height: 32px;\n",
       "      padding: 0 0 0 0;\n",
       "      width: 32px;\n",
       "    }\n",
       "\n",
       "    .colab-df-convert:hover {\n",
       "      background-color: #E2EBFA;\n",
       "      box-shadow: 0px 1px 2px rgba(60, 64, 67, 0.3), 0px 1px 3px 1px rgba(60, 64, 67, 0.15);\n",
       "      fill: #174EA6;\n",
       "    }\n",
       "\n",
       "    [theme=dark] .colab-df-convert {\n",
       "      background-color: #3B4455;\n",
       "      fill: #D2E3FC;\n",
       "    }\n",
       "\n",
       "    [theme=dark] .colab-df-convert:hover {\n",
       "      background-color: #434B5C;\n",
       "      box-shadow: 0px 1px 3px 1px rgba(0, 0, 0, 0.15);\n",
       "      filter: drop-shadow(0px 1px 2px rgba(0, 0, 0, 0.3));\n",
       "      fill: #FFFFFF;\n",
       "    }\n",
       "  </style>\n",
       "\n",
       "      <script>\n",
       "        const buttonEl =\n",
       "          document.querySelector('#df-fa9e55ab-8f21-4f07-9cec-a4e6d12c79ce button.colab-df-convert');\n",
       "        buttonEl.style.display =\n",
       "          google.colab.kernel.accessAllowed ? 'block' : 'none';\n",
       "\n",
       "        async function convertToInteractive(key) {\n",
       "          const element = document.querySelector('#df-fa9e55ab-8f21-4f07-9cec-a4e6d12c79ce');\n",
       "          const dataTable =\n",
       "            await google.colab.kernel.invokeFunction('convertToInteractive',\n",
       "                                                     [key], {});\n",
       "          if (!dataTable) return;\n",
       "\n",
       "          const docLinkHtml = 'Like what you see? Visit the ' +\n",
       "            '<a target=\"_blank\" href=https://colab.research.google.com/notebooks/data_table.ipynb>data table notebook</a>'\n",
       "            + ' to learn more about interactive tables.';\n",
       "          element.innerHTML = '';\n",
       "          dataTable['output_type'] = 'display_data';\n",
       "          await google.colab.output.renderOutput(dataTable, element);\n",
       "          const docLink = document.createElement('div');\n",
       "          docLink.innerHTML = docLinkHtml;\n",
       "          element.appendChild(docLink);\n",
       "        }\n",
       "      </script>\n",
       "    </div>\n",
       "  </div>\n",
       "  "
      ],
      "text/plain": [
       "                                  title    category  category_num\n",
       "0              xgody smartphone (nuevo)  cellphones             0\n",
       "1  kindle paperwhite segunda generacion   computers             1\n",
       "2          amplificador de antena nuevo  cellphones             0\n",
       "3                  volante logitech g27   computers             1\n",
       "4                        fitbit alta hr  cellphones             0"
      ]
     },
     "execution_count": 3,
     "metadata": {},
     "output_type": "execute_result"
    }
   ],
   "source": [
    "## Word2vect approach\n",
    "\n",
    "\"\"\"\n",
    "#=========Wallapop - Practical Assignment Word2Vect Model  =====\n",
    "#06.2022\n",
    "\n",
    "SUMMARY:\n",
    "This code solves a binary classification problem for\n",
    "Wallapop job application\n",
    "\n",
    "0-Cellphones and 1-Computers.\n",
    "decide based on text (the items title)\n",
    "\"\"\"\n",
    "\n",
    "# ====Import Libraries, Modules=====\n",
    "import os\n",
    "import json\n",
    "import numpy as np\n",
    "import pandas as pd\n",
    "import matplotlib.pylab as plt \n",
    "#matplotlib inline\n",
    "\n",
    "import seaborn as sns\n",
    "from sklearn.utils import resample\n",
    "from sklearn.metrics import classification_report, confusion_matrix, accuracy_score\n",
    "from sklearn.metrics import plot_confusion_matrix, roc_auc_score, roc_curve, precision_recall_curve\n",
    "from sklearn.model_selection import train_test_split\n",
    "import gensim\n",
    "from gensim.models import Word2Vec\n",
    "from sklearn import feature_extraction, model_selection, pipeline, manifold, preprocessing\n",
    "from tensorflow.keras import models, layers, preprocessing as kprocessing\n",
    "from tensorflow.keras import backend as K\n",
    "\n",
    "import nltk\n",
    "nltk.download('stopwords')\n",
    "from nltk.corpus import stopwords\n",
    "from nltk.tokenize import word_tokenize\n",
    "\n",
    "\n",
    "# #--Loding the dataset\n",
    "\n",
    "from google.colab import drive\n",
    "drive.mount('/content/drive')\n",
    "\n",
    "  # Path (data location)\n",
    "data_file = '/content/drive/MyDrive/Colab Notebooks/Wallapop - Practical Assignment/data.json'\n",
    "\n",
    "\n",
    "#Loading data\n",
    "with open(data_file) as f:\n",
    "    data = json.load(f)\n",
    "\n",
    "df = pd.DataFrame.from_records(data)\n",
    "print(\"DF shape:\", df.shape)\n",
    "df.head()\n",
    "\n"
   ]
  },
  {
   "cell_type": "code",
   "execution_count": 14,
   "metadata": {
    "colab": {
     "base_uri": "https://localhost:8080/",
     "height": 326
    },
    "id": "c4OyIjeGq7ir",
    "outputId": "4bf73341-84b8-4720-f4cc-60a0b13eca45"
   },
   "outputs": [
    {
     "data": {
      "image/png": "[encoded data removed]",
      "text/plain": [
       "<Figure size 432x288 with 1 Axes>"
      ]
     },
     "metadata": {
      "needs_background": "light"
     },
     "output_type": "display_data"
    },
    {
     "data": {
      "text/plain": [
       "['apple', 'watch', 'soporte', 'teléfono']"
      ]
     },
     "execution_count": 14,
     "metadata": {},
     "output_type": "execute_result"
    }
   ],
   "source": [
    "\n",
    "# ------ Treat Unbalance data -------\n",
    "Class_count=df['category'].value_counts().to_frame()\n",
    "\n",
    "#create df of majority and minority class \n",
    "df_majority = df[(df['category_num']==1)] \n",
    "df_minority = df[(df['category_num']==0)] \n",
    "\n",
    "# Oversampling minority class\n",
    "df_minority_ovsampled = resample(df_minority, \n",
    "                                 replace=True,    \n",
    "                                 n_samples= Class_count['category'][0], # match nb computers = nb celphones\n",
    "                                 random_state=1)  # set a seed for reproducible results\n",
    "# Concatenate both\n",
    "df_ovsampled = pd.concat([df_minority_ovsampled, df_majority])\n",
    "\n",
    "# plot\n",
    "df_ovsampled['category'].value_counts().plot(kind='bar')\n",
    "plt.show()\n",
    "\n",
    "\n",
    "df.sample(frac=1) # shuffle the entire dataset\n",
    "df = df_ovsampled #Using the oversample data increases classification accuracy\n",
    "\n",
    "\n",
    "# --Splitting the dataset (train=80% test=20%)\n",
    "df_train, df_test = train_test_split(df, test_size=0.2, random_state=42)\n",
    "y_train = df_train[\"category\"].values\n",
    "y_test = df_test[\"category\"].values\n",
    "\n",
    "\n",
    "#--Remove stopwords--\n",
    "stop_words=stopwords.words('spanish')\n",
    "corpus= df_train[\"title\"].apply(lambda x: ' '.join([word for word in x.split() if word not in (stop_words)]))\n",
    "\n",
    "#---convert corpus into a list of lists of n-grams. \n",
    "lst_corpus = []\n",
    "for string in corpus:\n",
    "   lst_words = string.split()\n",
    "   lst_grams = [\" \".join(lst_words[i:i+1]) \n",
    "               for i in range(0, len(lst_words), 1)]\n",
    "   lst_corpus.append(lst_grams)\n",
    "   \n",
    "#Check\n",
    "corpus.iloc[1]\n",
    "lst_corpus[1]\n",
    "\n"
   ]
  },
  {
   "cell_type": "code",
   "execution_count": 15,
   "metadata": {
    "id": "9pz40f0VrFsa"
   },
   "outputs": [],
   "source": [
    "#---Training my model using w2v---\n",
    "vector_size = 300\n",
    "nlp = gensim.models.word2vec.Word2Vec(lst_corpus, size=vector_size,   \n",
    "            window=8, min_count=1, sg=1, iter=100) "
   ]
  },
  {
   "cell_type": "code",
   "execution_count": 16,
   "metadata": {
    "colab": {
     "base_uri": "https://localhost:8080/",
     "height": 1000
    },
    "id": "D92pLdONqPKs",
    "outputId": "a8aaa055-a3b4-4297-efd0-a979010883c1"
   },
   "outputs": [
    {
     "name": "stderr",
     "output_type": "stream",
     "text": [
      "/usr/local/lib/python3.7/dist-packages/sklearn/manifold/_t_sne.py:793: FutureWarning: The default learning rate in TSNE will change from 200.0 to 'auto' in 1.2.\n",
      "  FutureWarning,\n",
      "/usr/local/lib/python3.7/dist-packages/sklearn/manifold/_t_sne.py:986: FutureWarning: The PCA initialization in TSNE will change to have the standard deviation of PC1 equal to 1e-4 in 1.2. This will ensure better convergence.\n",
      "  FutureWarning,\n",
      "/usr/local/lib/python3.7/dist-packages/pandas/core/indexing.py:1732: SettingWithCopyWarning: \n",
      "A value is trying to be set on a copy of a slice from a DataFrame\n",
      "\n",
      "See the caveats in the documentation: https://pandas.pydata.org/pandas-docs/stable/user_guide/indexing.html#returning-a-view-versus-a-copy\n",
      "  self._setitem_single_block(indexer, value, name)\n"
     ]
    },
    {
     "name": "stdout",
     "output_type": "stream",
     "text": [
      "dic[word]: 22 |idx\n",
      "embeddings[idx]: (300,) |vector size\n",
      "Model: \"model_1\"\n",
      "_________________________________________________________________\n",
      " Layer (type)                Output Shape              Param #   \n",
      "=================================================================\n",
      " input_2 (InputLayer)        [(None, 15)]              0         \n",
      "                                                                 \n",
      " embedding_1 (Embedding)     (None, 15, 300)           516600    \n",
      "                                                                 \n",
      " bidirectional_2 (Bidirectio  (None, 15, 100)          140400    \n",
      " nal)                                                            \n",
      "                                                                 \n",
      " bidirectional_3 (Bidirectio  (None, 30)               13920     \n",
      " nal)                                                            \n",
      "                                                                 \n",
      " dense_2 (Dense)             (None, 50)                1550      \n",
      "                                                                 \n",
      " dense_3 (Dense)             (None, 3)                 153       \n",
      "                                                                 \n",
      "=================================================================\n",
      "Total params: 672,623\n",
      "Trainable params: 156,023\n",
      "Non-trainable params: 516,600\n",
      "_________________________________________________________________\n"
     ]
    },
    {
     "data": {
      "image/png": "[encoded data removed]",
      "text/plain": [
       "<Figure size 432x288 with 1 Axes>"
      ]
     },
     "metadata": {
      "needs_background": "light"
     },
     "output_type": "display_data"
    },
    {
     "data": {
      "image/png": "[encoded data removed]",
      "text/plain": [
       "<Figure size 432x288 with 1 Axes>"
      ]
     },
     "metadata": {
      "needs_background": "light"
     },
     "output_type": "display_data"
    },
    {
     "data": {
      "image/png": "[encoded data removed]",
      "text/plain": [
       "<Figure size 432x288 with 1 Axes>"
      ]
     },
     "metadata": {
      "needs_background": "light"
     },
     "output_type": "display_data"
    },
    {
     "name": "stdout",
     "output_type": "stream",
     "text": [
      "              precision    recall  f1-score   support\n",
      "\n",
      "  cellphones       0.91      0.86      0.88       175\n",
      "   computers       0.85      0.91      0.88       161\n",
      "\n",
      "    accuracy                           0.88       336\n",
      "   macro avg       0.88      0.89      0.88       336\n",
      "weighted avg       0.89      0.88      0.88       336\n",
      "\n",
      "Accuracy is:  0.8839285714285714\n",
      "[[150  25]\n",
      " [ 14 147]]\n"
     ]
    },
    {
     "data": {
      "text/plain": [
       "<matplotlib.axes._subplots.AxesSubplot at 0x7f062ed9d450>"
      ]
     },
     "execution_count": 16,
     "metadata": {},
     "output_type": "execute_result"
    },
    {
     "data": {
      "image/png": "[encoded data removed]",
      "text/plain": [
       "<Figure size 432x288 with 2 Axes>"
      ]
     },
     "metadata": {
      "needs_background": "light"
     },
     "output_type": "display_data"
    }
   ],
   "source": [
    "#Test-Convert word to vector using the model - check vector size\n",
    "word = 'ordenador'\n",
    "nlp.wv[word].shape  \n",
    "\n",
    "\n",
    "#-- FIgure scatter of words\n",
    "word = \"ordenador\"\n",
    "fig = plt.figure()\n",
    "## word embedding\n",
    "tot_words = [word] + [tupla[0] for tupla in \n",
    "                 nlp.wv.most_similar(word, topn=20)]\n",
    "X = nlp.wv[tot_words]\n",
    "## pca to reduce dimensionality from 300 to 3\n",
    "pca = manifold.TSNE(perplexity=40, n_components=3, init='pca')\n",
    "X = pca.fit_transform(X)\n",
    "## create dtf\n",
    "dtf_ = pd.DataFrame(X, index=tot_words, columns=[\"x\",\"y\",\"z\"])\n",
    "dtf_[\"input\"] = 0\n",
    "dtf_[\"input\"].iloc[0:1] = 1\n",
    "## plot 3d\n",
    "from mpl_toolkits.mplot3d import Axes3D\n",
    "ax = fig.add_subplot(111, projection='3d')\n",
    "ax.scatter(dtf_[dtf_[\"input\"]==0]['x'], \n",
    "           dtf_[dtf_[\"input\"]==0]['y'], \n",
    "           dtf_[dtf_[\"input\"]==0]['z'], c=\"black\")\n",
    "ax.scatter(dtf_[dtf_[\"input\"]==1]['x'], \n",
    "           dtf_[dtf_[\"input\"]==1]['y'], \n",
    "           dtf_[dtf_[\"input\"]==1]['z'], c=\"red\")\n",
    "ax.set(xlabel=None, ylabel=None, zlabel=None, xticklabels=[], \n",
    "       yticklabels=[], zticklabels=[])\n",
    "for label, row in dtf_[[\"x\",\"y\",\"z\"]].iterrows():\n",
    "    x, y, z = row\n",
    "    ax.text(x, y, z, s=label)\n",
    "\n",
    "\n",
    "\n",
    "#----Feature engineering---\n",
    "#Transfor the list of lists of n-grams given to the Word2Vec into a \n",
    "# list of sequences:\n",
    "    \n",
    "## tokenize text\n",
    "tokenizer = kprocessing.text.Tokenizer(lower=True, split=' ', \n",
    "                     oov_token=\"NaN\", \n",
    "                     filters='!\"#$%&()*+,-./:;<=>?@[\\\\]^_`{|}~\\t\\n')\n",
    "tokenizer.fit_on_texts(lst_corpus)\n",
    "dic_vocabulary = tokenizer.word_index # Make index for each word\n",
    "## create sequence\n",
    "lst_text2seq= tokenizer.texts_to_sequences(lst_corpus)\n",
    "## padding sequence\n",
    "X_train = kprocessing.sequence.pad_sequences(lst_text2seq, \n",
    "                    maxlen=15, padding=\"post\", truncating=\"post\")\n",
    "\n",
    "\n",
    "#-- do the same feature engineering on the test set as well:\n",
    "#--Remove stopwords--\n",
    "stop_words=stopwords.words('spanish')\n",
    "corpus= df_test[\"title\"].apply(lambda x: ' '.join([word for word in x.split() if word not in (stop_words)]))\n",
    "#corpus = df_test['title']\n",
    "\n",
    "\n",
    "## create list of n-grams\n",
    "lst_corpus = []\n",
    "for string in corpus:\n",
    "    lst_words = string.split()\n",
    "    lst_grams = [\" \".join(lst_words[i:i+1]) for i in range(0, \n",
    "                 len(lst_words), 1)]\n",
    "    lst_corpus.append(lst_grams)\n",
    "    \n",
    "\n",
    "## text to sequence with the fitted tokenizer\n",
    "lst_text2seq = tokenizer.texts_to_sequences(lst_corpus)\n",
    "\n",
    "## padding sequence\n",
    "X_test = kprocessing.sequence.pad_sequences(lst_text2seq, maxlen=15,\n",
    "             padding=\"post\", truncating=\"post\")\n",
    "\n",
    "\n",
    "#---- Create matrix of embedding that will be used as a weight matrix \n",
    "#            in the neural network classifier\n",
    "\n",
    "## start the matrix (length of vocabulary x vector size) \n",
    "embeddings = np.zeros((len(dic_vocabulary)+1, vector_size))\n",
    "for word,idx in dic_vocabulary.items():\n",
    "    ## update the row with vector\n",
    "    try:\n",
    "        embeddings[idx] =  nlp.wv[word]\n",
    "    ## if word not in model then skip and the row stays all 0s\n",
    "    except:\n",
    "        pass\n",
    "\n",
    "#-test\n",
    "word = \"ordenador\"\n",
    "print(\"dic[word]:\", dic_vocabulary[word], \"|idx\")\n",
    "print(\"embeddings[idx]:\", embeddings[dic_vocabulary[word]].shape, \n",
    "      \"|vector size\")\n",
    "\n",
    "\n",
    "\n",
    "\"\"\"\n",
    "===== NN structure ======\n",
    "* 1 Embedding layer that takes the sequences as input and the word vectors as weights\n",
    "* Two layers of Bidirectional LSTM to model the order of words in a sequence in both directions.\n",
    "* Two final dense layers that will predict the probability of each news category.\n",
    "\"\"\"\n",
    "\n",
    "## input\n",
    "x_in = layers.Input(shape=(15,))\n",
    "## embedding\n",
    "x = layers.Embedding(input_dim=embeddings.shape[0],  \n",
    "                     output_dim=embeddings.shape[1], \n",
    "                     weights=[embeddings],\n",
    "                     input_length=15, trainable=False)(x_in)\n",
    "\n",
    "## 2 layers of bidirectional lstm\n",
    "x = layers.Bidirectional(layers.LSTM(units=50, dropout=0.2, \n",
    "                         return_sequences=True))(x)\n",
    "x = layers.Bidirectional(layers.LSTM(units=15, dropout=0.2))(x)\n",
    "## final dense layers\n",
    "x = layers.Dense(50, activation='sigmoid')(x)  #relu\n",
    "y_out = layers.Dense(3, activation='softmax')(x)  \n",
    "\n",
    "## compile\n",
    "model = models.Model(x_in, y_out)\n",
    "model.compile(loss='sparse_categorical_crossentropy',\n",
    "               optimizer='adam', metrics=['accuracy']) \n",
    "model.summary()\n",
    "\n",
    "\n",
    "\n",
    "#--Train the model and check the performance on a subset of the training set\n",
    "# used for validation before testing it on the actual test set.\n",
    "\n",
    "## encode y\n",
    "dic_y_mapping = {n:label for n,label in \n",
    "                 enumerate(np.unique(y_train))}\n",
    "inverse_dic = {v:k for k,v in dic_y_mapping.items()}\n",
    "y_train = np.array([inverse_dic[y] for y in y_train])\n",
    "## train\n",
    "training = model.fit(x=X_train, y=y_train, batch_size=256, \n",
    "                     epochs=20, shuffle=True, verbose=0, \n",
    "                     validation_split=0.2)  # epochs=10  20\n",
    "\n",
    "\n",
    "\n",
    "#-- Figures Performance\n",
    "\n",
    "plt.rcParams['text.color'] = 'black'\n",
    "plt.figure()\n",
    "plt.ylabel(\"Loss\")\n",
    "plt.xlabel(\"Epoch\")\n",
    "plt.plot(training.history['loss'], label=\"train\")\n",
    "plt.plot(training.history['val_loss'], label=\"test\")\n",
    "plt.legend(loc='upper right')\n",
    "\n",
    "plt.figure()\n",
    "plt.ylabel(\"Accuracy\")\n",
    "plt.xlabel(\"Epoch\")\n",
    "plt.plot(training.history[\"accuracy\"], label=\"train\")\n",
    "plt.plot(training.history[\"val_accuracy\"], label=\"test\")\n",
    "plt.legend(loc='lower right')\n",
    "\n",
    "plt.show()\n",
    "\n",
    "\n",
    "## Prediction\n",
    "predicted_prob = model.predict(X_test)\n",
    "y_pred = [dic_y_mapping[np.argmax(pred)] for pred in \n",
    "             predicted_prob]\n",
    "\n",
    "print(classification_report(y_test.tolist(), y_pred))\n",
    "print('Accuracy is: ',accuracy_score(y_test,y_pred))\n",
    "print(confusion_matrix(y_test, y_pred))\n",
    "\n",
    "\n",
    "\n",
    "\n",
    "\n",
    "classes = np.unique(y_test)\n",
    "y_test_array = pd.get_dummies(y_test, drop_first=False).values\n",
    "\n",
    "\n",
    "cf_matrix=confusion_matrix(y_test, y_pred)\n",
    "group_names = ['True Cellphone','False Cellphone','False Computer','True Computer']\n",
    "group_counts = ['{0:0.0f}'.format(value) for value in\n",
    "                cf_matrix.flatten()]\n",
    "group_percentages = ['{0:.2%}'.format(value) for value in\n",
    "                     cf_matrix.flatten()/np.sum(cf_matrix)]\n",
    "labels = [f'{v1}\\n{v2}\\n{v3}' for v1, v2, v3 in\n",
    "          zip(group_names,group_counts,group_percentages)]\n",
    "labels = np.asarray(labels).reshape(2,2)\n",
    "sns.heatmap(cf_matrix, annot=labels, fmt='', cmap='coolwarm') #Blues coolwarm rocket\n",
    "    \n"
   ]
  }
 ],
 "metadata": {
  "colab": {
   "collapsed_sections": [],
   "name": "DS Practical Assignment_ADuran.ipynb",
   "provenance": []
  },
  "kernelspec": {
   "display_name": "Python 3",
   "language": "python",
   "name": "python3"
  },
  "language_info": {
   "codemirror_mode": {
    "name": "ipython",
    "version": 3
   },
   "file_extension": ".py",
   "mimetype": "text/x-python",
   "name": "python",
   "nbconvert_exporter": "python",
   "pygments_lexer": "ipython3",
   "version": "3.7.3"
  }
 },
 "nbformat": 4,
 "nbformat_minor": 1
}
